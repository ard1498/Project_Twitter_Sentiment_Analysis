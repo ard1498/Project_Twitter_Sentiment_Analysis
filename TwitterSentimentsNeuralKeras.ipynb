{
  "nbformat": 4,
  "nbformat_minor": 0,
  "metadata": {
    "colab": {
      "name": "TwitterSentimentsNeuralKeras.ipynb",
      "version": "0.3.2",
      "provenance": [],
      "toc_visible": true
    },
    "kernelspec": {
      "name": "python3",
      "display_name": "Python 3"
    },
    "accelerator": "GPU"
  },
  "cells": [
    {
      "metadata": {
        "id": "Kvli5BS8D91A",
        "colab_type": "text"
      },
      "cell_type": "markdown",
      "source": [
        "# Twitter  sentiments by Neural Networks and Keras"
      ]
    },
    {
      "metadata": {
        "id": "e_8UKFcAEL2y",
        "colab_type": "text"
      },
      "cell_type": "markdown",
      "source": [
        "## Building the network architecture"
      ]
    },
    {
      "metadata": {
        "id": "KF_8NCAQEFtq",
        "colab_type": "code",
        "colab": {}
      },
      "cell_type": "code",
      "source": [
        "from keras.models import Sequential\n",
        "from keras.layers import Dense"
      ],
      "execution_count": 0,
      "outputs": []
    },
    {
      "metadata": {
        "id": "_-yKY9pTEht-",
        "colab_type": "code",
        "colab": {}
      },
      "cell_type": "code",
      "source": [
        "clf_model = Sequential()"
      ],
      "execution_count": 0,
      "outputs": []
    },
    {
      "metadata": {
        "id": "SSaZkXkXEmC_",
        "colab_type": "code",
        "colab": {}
      },
      "cell_type": "code",
      "source": [
        "clf_model.add(Dense(units=300 , activation='relu' , input_dim=3000))\n",
        "clf_model.add(Dense(units=20, activation='relu'))\n",
        "clf_model.add(Dense(units=3 , activation='relu'))"
      ],
      "execution_count": 0,
      "outputs": []
    },
    {
      "metadata": {
        "id": "KEEtUxnfokH6",
        "colab_type": "code",
        "colab": {}
      },
      "cell_type": "code",
      "source": [
        "from keras import optimizers"
      ],
      "execution_count": 0,
      "outputs": []
    },
    {
      "metadata": {
        "id": "4PQEoSgDFv1T",
        "colab_type": "code",
        "colab": {}
      },
      "cell_type": "code",
      "source": [
        "adm = optimizers.Adamax(lr = 0.0001)\n",
        "clf_model.compile(optimizer = adm , loss = 'categorical_crossentropy' , metrics = ['accuracy'])"
      ],
      "execution_count": 0,
      "outputs": []
    },
    {
      "metadata": {
        "id": "uj9J1MvaHg8e",
        "colab_type": "text"
      },
      "cell_type": "markdown",
      "source": [
        "## Getting the data from drive"
      ]
    },
    {
      "metadata": {
        "id": "pgRjhOVBG0pH",
        "colab_type": "code",
        "colab": {}
      },
      "cell_type": "code",
      "source": [
        "from google.colab import drive"
      ],
      "execution_count": 0,
      "outputs": []
    },
    {
      "metadata": {
        "id": "4a693c65HvMu",
        "colab_type": "code",
        "colab": {
          "base_uri": "https://localhost:8080/",
          "height": 54
        },
        "outputId": "f6683760-0d57-4a6b-9433-0bb404096ab4"
      },
      "cell_type": "code",
      "source": [
        "drive.mount('/content/gdrive/')"
      ],
      "execution_count": 314,
      "outputs": [
        {
          "output_type": "stream",
          "text": [
            "Drive already mounted at /content/gdrive/; to attempt to forcibly remount, call drive.mount(\"/content/gdrive/\", force_remount=True).\n"
          ],
          "name": "stdout"
        }
      ]
    },
    {
      "metadata": {
        "id": "fBnJm_MOH7ub",
        "colab_type": "code",
        "colab": {}
      },
      "cell_type": "code",
      "source": [
        "path_test = '/content/gdrive/My Drive/Project Twitter sentiments/test_twitter_x_test.csv'\n",
        "path_train = '/content/gdrive/My Drive/Project Twitter sentiments/training_twitter_x_y_train.csv'"
      ],
      "execution_count": 0,
      "outputs": []
    },
    {
      "metadata": {
        "id": "XAQkKUPPJH3I",
        "colab_type": "code",
        "colab": {}
      },
      "cell_type": "code",
      "source": [
        "import pandas as pd"
      ],
      "execution_count": 0,
      "outputs": []
    },
    {
      "metadata": {
        "id": "VwUiSgn8JT_d",
        "colab_type": "code",
        "colab": {
          "base_uri": "https://localhost:8080/",
          "height": 153
        },
        "outputId": "2fc5d35b-c7c1-4a9d-cd34-dea8cd5f1068"
      },
      "cell_type": "code",
      "source": [
        "df_train = pd.DataFrame(pd.read_csv(path_train))\n",
        "df_test = pd.DataFrame(pd.read_csv(path_test))\n",
        "df_train.columns , df_test.columns"
      ],
      "execution_count": 317,
      "outputs": [
        {
          "output_type": "execute_result",
          "data": {
            "text/plain": [
              "(Index(['tweet_id', 'airline_sentiment', 'airline', 'airline_sentiment_gold',\n",
              "        'name', 'negativereason_gold', 'retweet_count', 'text', 'tweet_coord',\n",
              "        'tweet_created', 'tweet_location', 'user_timezone'],\n",
              "       dtype='object'),\n",
              " Index(['tweet_id', 'airline', 'airline_sentiment_gold', 'name',\n",
              "        'negativereason_gold', 'retweet_count', 'text', 'tweet_coord',\n",
              "        'tweet_created', 'tweet_location', 'user_timezone'],\n",
              "       dtype='object'))"
            ]
          },
          "metadata": {
            "tags": []
          },
          "execution_count": 317
        }
      ]
    },
    {
      "metadata": {
        "id": "sMezAAM1JdCP",
        "colab_type": "code",
        "colab": {}
      },
      "cell_type": "code",
      "source": [
        "train_tweets = df_train['text']\n",
        "y_train = df_train['airline_sentiment']\n",
        "test_tweets = df_test['text']"
      ],
      "execution_count": 0,
      "outputs": []
    },
    {
      "metadata": {
        "id": "ZlknKi2yKEZI",
        "colab_type": "code",
        "colab": {
          "base_uri": "https://localhost:8080/",
          "height": 34
        },
        "outputId": "ab5bc984-508e-4ae6-8c88-22025d92e937"
      },
      "cell_type": "code",
      "source": [
        "y_train.unique()"
      ],
      "execution_count": 319,
      "outputs": [
        {
          "output_type": "execute_result",
          "data": {
            "text/plain": [
              "array(['negative', 'positive', 'neutral'], dtype=object)"
            ]
          },
          "metadata": {
            "tags": []
          },
          "execution_count": 319
        }
      ]
    },
    {
      "metadata": {
        "id": "b6_sBXNsKQ7Y",
        "colab_type": "text"
      },
      "cell_type": "markdown",
      "source": [
        "So we have 3 units in output layer"
      ]
    },
    {
      "metadata": {
        "id": "gKBaTxmmKNFJ",
        "colab_type": "code",
        "colab": {
          "base_uri": "https://localhost:8080/",
          "height": 187
        },
        "outputId": "0dbbb327-3758-4a79-e5f8-7b9784dd9261"
      },
      "cell_type": "code",
      "source": [
        "from nltk import tokenize\n",
        "import nltk\n",
        "nltk.download('punkt')\n",
        "nltk.download('stopwords')\n",
        "nltk.download('averaged_perceptron_tagger')\n",
        "nltk.download('wordnet')\n",
        "from nltk.corpus import stopwords,wordnet\n",
        "from nltk.stem import WordNetLemmatizer\n",
        "import string\n",
        "from nltk import pos_tag"
      ],
      "execution_count": 320,
      "outputs": [
        {
          "output_type": "stream",
          "text": [
            "[nltk_data] Downloading package punkt to /root/nltk_data...\n",
            "[nltk_data]   Package punkt is already up-to-date!\n",
            "[nltk_data] Downloading package stopwords to /root/nltk_data...\n",
            "[nltk_data]   Package stopwords is already up-to-date!\n",
            "[nltk_data] Downloading package averaged_perceptron_tagger to\n",
            "[nltk_data]     /root/nltk_data...\n",
            "[nltk_data]   Package averaged_perceptron_tagger is already up-to-\n",
            "[nltk_data]       date!\n",
            "[nltk_data] Downloading package wordnet to /root/nltk_data...\n",
            "[nltk_data]   Package wordnet is already up-to-date!\n"
          ],
          "name": "stdout"
        }
      ]
    },
    {
      "metadata": {
        "id": "M_89Y6lgLcco",
        "colab_type": "code",
        "colab": {}
      },
      "cell_type": "code",
      "source": [
        "def tokenized_data(data):\n",
        "  tokenised_word_data = []\n",
        "  for datapoint in data : \n",
        "    words_dp = tokenize.word_tokenize(datapoint)\n",
        "    tokenised_word_data.append(words_dp)\n",
        "  return tokenised_word_data"
      ],
      "execution_count": 0,
      "outputs": []
    },
    {
      "metadata": {
        "id": "85XDqgeVZxXy",
        "colab_type": "code",
        "colab": {}
      },
      "cell_type": "code",
      "source": [
        "train_data , test_data = tokenized_data(train_tweets) , tokenized_data(test_tweets)"
      ],
      "execution_count": 0,
      "outputs": []
    },
    {
      "metadata": {
        "id": "cNMbUxMralnK",
        "colab_type": "code",
        "colab": {}
      },
      "cell_type": "code",
      "source": [
        "stop_words = set(stopwords.words('english'))\n",
        "stop_words.update(list(string.punctuation))\n",
        "\n",
        "lemmatizer = WordNetLemmatizer()"
      ],
      "execution_count": 0,
      "outputs": []
    },
    {
      "metadata": {
        "id": "dY8nwT40bVkC",
        "colab_type": "code",
        "colab": {}
      },
      "cell_type": "code",
      "source": [
        "def getsimplepos(tag):\n",
        "  if tag.startswith('J'):\n",
        "    return wordnet.ADJ\n",
        "  elif tag.startswith('R'):\n",
        "    return wordnet.ADV\n",
        "  elif tag.startswith('V'):\n",
        "    return wordnet.VERB\n",
        "  else:\n",
        "    return wordnet.NOUN"
      ],
      "execution_count": 0,
      "outputs": []
    },
    {
      "metadata": {
        "id": "IecixWgGaFlx",
        "colab_type": "code",
        "colab": {}
      },
      "cell_type": "code",
      "source": [
        "def cleaning(words):\n",
        "  output_words = []\n",
        "  for w in words : \n",
        "    if w.lower() not in stop_words:\n",
        "      pos = pos_tag([w])\n",
        "      new_word = lemmatizer.lemmatize(w, pos = getsimplepos(pos[0][1]))\n",
        "      output_words.append(new_word.lower())\n",
        "  return output_words"
      ],
      "execution_count": 0,
      "outputs": []
    },
    {
      "metadata": {
        "id": "C8jrXJhVbNrX",
        "colab_type": "code",
        "colab": {}
      },
      "cell_type": "code",
      "source": [
        "xtrain_words = [cleaning(words) for words in train_data]\n",
        "xtest_words = [cleaning(words) for words in test_data]"
      ],
      "execution_count": 0,
      "outputs": []
    },
    {
      "metadata": {
        "id": "XxBuhvQycP_B",
        "colab_type": "code",
        "colab": {}
      },
      "cell_type": "code",
      "source": [
        "x_train = [\" \".join(line) for line in xtrain_words]\n",
        "x_test = [\" \".join(line) for line in xtest_words]"
      ],
      "execution_count": 0,
      "outputs": []
    },
    {
      "metadata": {
        "id": "uqZeykV2czYw",
        "colab_type": "code",
        "colab": {
          "base_uri": "https://localhost:8080/",
          "height": 51
        },
        "outputId": "465822f2-1e7d-4332-98d4-6c107ab6659e"
      },
      "cell_type": "code",
      "source": [
        "x_train[0],x_test[0]"
      ],
      "execution_count": 328,
      "outputs": [
        {
          "output_type": "execute_result",
          "data": {
            "text/plain": [
              "('southwestair schedule morning 2 day fact yes..not sure even flight one cancelled flightled',\n",
              " \"americanair car gng dfw pulled 1hr ago icy road on-hold aa since 1hr ca n't reach arpt aa2450 wat 2\")"
            ]
          },
          "metadata": {
            "tags": []
          },
          "execution_count": 328
        }
      ]
    },
    {
      "metadata": {
        "id": "jk9V7J09c_Fu",
        "colab_type": "code",
        "colab": {}
      },
      "cell_type": "code",
      "source": [
        "from sklearn.feature_extraction.text import CountVectorizer\n",
        "count_vec = CountVectorizer(max_features = 3000 , ngram_range= (1,2))"
      ],
      "execution_count": 0,
      "outputs": []
    },
    {
      "metadata": {
        "id": "-woohP8_dUby",
        "colab_type": "code",
        "colab": {}
      },
      "cell_type": "code",
      "source": [
        "x_train_final = count_vec.fit_transform(x_train)\n",
        "x_test_final = count_vec.transform(x_test)"
      ],
      "execution_count": 0,
      "outputs": []
    },
    {
      "metadata": {
        "id": "v6Ow8RigdgWu",
        "colab_type": "code",
        "colab": {}
      },
      "cell_type": "code",
      "source": [
        "import numpy as np\n",
        "X_train_for_neural = np.array(x_train_final.todense())\n",
        "X_test_for_neural = np.array(x_test_final.todense())"
      ],
      "execution_count": 0,
      "outputs": []
    },
    {
      "metadata": {
        "id": "VxvJFnuxe_kr",
        "colab_type": "code",
        "colab": {}
      },
      "cell_type": "code",
      "source": [
        "def onehotencode(y_data):\n",
        "  y_output_data = []\n",
        "  for y in y_data :\n",
        "    y_output = [0 for i in range(3)]\n",
        "    if y == 'poistive':\n",
        "      y_output[0] = 1\n",
        "    elif y == 'negative' :\n",
        "      y_output[1] = 1\n",
        "    else:\n",
        "      y_output[2] = 1\n",
        "    y_output_data.append(y_output)\n",
        "  return y_output_data"
      ],
      "execution_count": 0,
      "outputs": []
    },
    {
      "metadata": {
        "id": "J06AfgcSjVzJ",
        "colab_type": "code",
        "colab": {
          "base_uri": "https://localhost:8080/",
          "height": 34
        },
        "outputId": "08f28754-d750-4c80-c67a-89fb7d0163dd"
      },
      "cell_type": "code",
      "source": [
        "np.array(onehotencode(y_train)).shape"
      ],
      "execution_count": 333,
      "outputs": [
        {
          "output_type": "execute_result",
          "data": {
            "text/plain": [
              "(10980, 3)"
            ]
          },
          "metadata": {
            "tags": []
          },
          "execution_count": 333
        }
      ]
    },
    {
      "metadata": {
        "id": "GHcijjCFd3Ba",
        "colab_type": "code",
        "colab": {
          "base_uri": "https://localhost:8080/",
          "height": 714
        },
        "outputId": "bcb25e28-98d9-4142-faad-84620b515df6"
      },
      "cell_type": "code",
      "source": [
        "clf_model.fit(X_train_for_neural,np.array(onehotencode(y_train)) , epochs = 20)"
      ],
      "execution_count": 334,
      "outputs": [
        {
          "output_type": "stream",
          "text": [
            "Epoch 1/20\n",
            "10980/10980 [==============================] - 3s 231us/step - loss: 4.7425 - acc: 0.4811\n",
            "Epoch 2/20\n",
            "10980/10980 [==============================] - 2s 196us/step - loss: 3.0672 - acc: 0.6133\n",
            "Epoch 3/20\n",
            "10980/10980 [==============================] - 2s 195us/step - loss: 2.6390 - acc: 0.6557\n",
            "Epoch 4/20\n",
            "10980/10980 [==============================] - 2s 195us/step - loss: 2.3652 - acc: 0.6811\n",
            "Epoch 5/20\n",
            "10980/10980 [==============================] - 2s 196us/step - loss: 2.2205 - acc: 0.6990\n",
            "Epoch 6/20\n",
            "10980/10980 [==============================] - 2s 196us/step - loss: 2.0767 - acc: 0.7144\n",
            "Epoch 7/20\n",
            "10980/10980 [==============================] - 2s 195us/step - loss: 1.9490 - acc: 0.7323\n",
            "Epoch 8/20\n",
            "10980/10980 [==============================] - 2s 195us/step - loss: 1.8404 - acc: 0.7484\n",
            "Epoch 9/20\n",
            "10980/10980 [==============================] - 2s 197us/step - loss: 1.7500 - acc: 0.7600\n",
            "Epoch 10/20\n",
            "10980/10980 [==============================] - 2s 197us/step - loss: 1.6535 - acc: 0.7715\n",
            "Epoch 11/20\n",
            "10980/10980 [==============================] - 2s 197us/step - loss: 1.5769 - acc: 0.7856\n",
            "Epoch 12/20\n",
            "10980/10980 [==============================] - 2s 196us/step - loss: 1.5103 - acc: 0.7966\n",
            "Epoch 13/20\n",
            "10980/10980 [==============================] - 2s 197us/step - loss: 1.4510 - acc: 0.8096\n",
            "Epoch 14/20\n",
            "10980/10980 [==============================] - 2s 195us/step - loss: 1.4053 - acc: 0.8179\n",
            "Epoch 15/20\n",
            "10980/10980 [==============================] - 2s 196us/step - loss: 1.3662 - acc: 0.8266\n",
            "Epoch 16/20\n",
            "10980/10980 [==============================] - 2s 196us/step - loss: 1.3235 - acc: 0.8347\n",
            "Epoch 17/20\n",
            "10980/10980 [==============================] - 2s 195us/step - loss: 1.2825 - acc: 0.8423\n",
            "Epoch 18/20\n",
            "10980/10980 [==============================] - 2s 197us/step - loss: 1.2507 - acc: 0.8505\n",
            "Epoch 19/20\n",
            "10980/10980 [==============================] - 2s 196us/step - loss: 1.2225 - acc: 0.8568\n",
            "Epoch 20/20\n",
            "10980/10980 [==============================] - 2s 196us/step - loss: 1.1993 - acc: 0.8642\n"
          ],
          "name": "stdout"
        },
        {
          "output_type": "execute_result",
          "data": {
            "text/plain": [
              "<keras.callbacks.History at 0x7f980d6edc88>"
            ]
          },
          "metadata": {
            "tags": []
          },
          "execution_count": 334
        }
      ]
    },
    {
      "metadata": {
        "id": "qUBJxBvrqgjX",
        "colab_type": "code",
        "colab": {}
      },
      "cell_type": "code",
      "source": [
        "def reversehotencode(encoded_y):\n",
        "  y_final = []\n",
        "  for arr in encoded_y :\n",
        "    idx = np.argmax(arr)\n",
        "    if idx == 0 :\n",
        "      y_final.append('positive')\n",
        "    elif idx == 1:\n",
        "      y_final.append('negative')\n",
        "    else:\n",
        "      y_final.append('neutral')\n",
        "  return y_final"
      ],
      "execution_count": 0,
      "outputs": []
    },
    {
      "metadata": {
        "id": "UVKennrzd_NH",
        "colab_type": "code",
        "colab": {}
      },
      "cell_type": "code",
      "source": [
        "hot_encoded_Ypred = clf_model.predict(X_test_for_neural)\n",
        "Ypred = reversehotencode(hot_encoded_Ypred)"
      ],
      "execution_count": 0,
      "outputs": []
    },
    {
      "metadata": {
        "id": "FuNCVYZ2eFdI",
        "colab_type": "code",
        "colab": {}
      },
      "cell_type": "code",
      "source": [
        "np.savetxt('predictions_from_neural_keras.csv', Ypred , fmt = '%s')"
      ],
      "execution_count": 0,
      "outputs": []
    }
  ]
}