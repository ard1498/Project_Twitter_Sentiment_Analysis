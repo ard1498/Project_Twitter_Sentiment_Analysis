{
 "cells": [
  {
   "cell_type": "markdown",
   "metadata": {},
   "source": [
    "# Project Twitter Sentiments"
   ]
  },
  {
   "cell_type": "code",
   "execution_count": 0,
   "metadata": {
    "colab": {},
    "colab_type": "code",
    "id": "8A6J-PYOIg9L"
   },
   "outputs": [],
   "source": [
    "from google.colab import drive\n",
    "import os"
   ]
  },
  {
   "cell_type": "code",
   "execution_count": 2,
   "metadata": {
    "colab": {
     "base_uri": "https://localhost:8080/",
     "height": 122
    },
    "colab_type": "code",
    "id": "UcyeW00bI6MU",
    "outputId": "f0d327ca-88bf-4d8f-9649-2677b3dc2e85"
   },
   "outputs": [
    {
     "name": "stdout",
     "output_type": "stream",
     "text": [
      "Go to this URL in a browser: https://accounts.google.com/o/oauth2/auth?client_id=947318989803-6bn6qk8qdgf4n4g3pfee6491hc0brc4i.apps.googleusercontent.com&redirect_uri=urn%3Aietf%3Awg%3Aoauth%3A2.0%3Aoob&scope=email%20https%3A%2F%2Fwww.googleapis.com%2Fauth%2Fdocs.test%20https%3A%2F%2Fwww.googleapis.com%2Fauth%2Fdrive%20https%3A%2F%2Fwww.googleapis.com%2Fauth%2Fdrive.photos.readonly%20https%3A%2F%2Fwww.googleapis.com%2Fauth%2Fpeopleapi.readonly&response_type=code\n",
      "\n",
      "Enter your authorization code:\n",
      "··········\n",
      "Mounted at /content/gdrive\n"
     ]
    }
   ],
   "source": [
    "drive.mount('/content/gdrive')"
   ]
  },
  {
   "cell_type": "code",
   "execution_count": 0,
   "metadata": {
    "colab": {},
    "colab_type": "code",
    "id": "zG-_d5O3JEMp"
   },
   "outputs": [],
   "source": [
    "path = '/content/gdrive/My Drive/Project Twitter sentiments/'\n",
    "path_training = path + 'training_twitter_x_y_train.csv'\n",
    "path_testing = path + 'test_twitter_x_test.csv'"
   ]
  },
  {
   "cell_type": "code",
   "execution_count": 0,
   "metadata": {
    "colab": {},
    "colab_type": "code",
    "id": "0v98LmseJ09h"
   },
   "outputs": [],
   "source": [
    "import pandas as pd"
   ]
  },
  {
   "cell_type": "code",
   "execution_count": 10,
   "metadata": {
    "colab": {
     "base_uri": "https://localhost:8080/",
     "height": 85
    },
    "colab_type": "code",
    "id": "Bd7PofKyKCWg",
    "outputId": "98836494-d3a9-4235-83ae-849619e1f19e"
   },
   "outputs": [
    {
     "data": {
      "text/plain": [
       "Index(['tweet_id', 'airline_sentiment', 'airline', 'airline_sentiment_gold',\n",
       "       'name', 'negativereason_gold', 'retweet_count', 'text', 'tweet_coord',\n",
       "       'tweet_created', 'tweet_location', 'user_timezone'],\n",
       "      dtype='object')"
      ]
     },
     "execution_count": 10,
     "metadata": {
      "tags": []
     },
     "output_type": "execute_result"
    }
   ],
   "source": [
    "df_train = pd.DataFrame(pd.read_csv(path_training))\n",
    "df_train.columns"
   ]
  },
  {
   "cell_type": "code",
   "execution_count": 11,
   "metadata": {
    "colab": {
     "base_uri": "https://localhost:8080/",
     "height": 85
    },
    "colab_type": "code",
    "id": "Vmtc8Tn-KRwY",
    "outputId": "cec9c038-eb12-4460-9aa0-a0e134f04a46"
   },
   "outputs": [
    {
     "data": {
      "text/plain": [
       "Index(['tweet_id', 'airline', 'airline_sentiment_gold', 'name',\n",
       "       'negativereason_gold', 'retweet_count', 'text', 'tweet_coord',\n",
       "       'tweet_created', 'tweet_location', 'user_timezone'],\n",
       "      dtype='object')"
      ]
     },
     "execution_count": 11,
     "metadata": {
      "tags": []
     },
     "output_type": "execute_result"
    }
   ],
   "source": [
    "df_test = pd.DataFrame(pd.read_csv(path_testing))\n",
    "df_test.columns"
   ]
  },
  {
   "cell_type": "code",
   "execution_count": 0,
   "metadata": {
    "colab": {},
    "colab_type": "code",
    "id": "fJVskeoBKwQk"
   },
   "outputs": [],
   "source": [
    "import numpy as np"
   ]
  },
  {
   "cell_type": "code",
   "execution_count": 13,
   "metadata": {
    "colab": {
     "base_uri": "https://localhost:8080/",
     "height": 34
    },
    "colab_type": "code",
    "id": "BSjnc3xXKi1L",
    "outputId": "9e430be1-9089-48a1-d638-e09fce1f3319"
   },
   "outputs": [
    {
     "data": {
      "text/plain": [
       "(10980,)"
      ]
     },
     "execution_count": 13,
     "metadata": {
      "tags": []
     },
     "output_type": "execute_result"
    }
   ],
   "source": [
    "Y = np.array(df_train['airline_sentiment'])\n",
    "Y.shape"
   ]
  },
  {
   "cell_type": "code",
   "execution_count": 20,
   "metadata": {
    "colab": {
     "base_uri": "https://localhost:8080/",
     "height": 34
    },
    "colab_type": "code",
    "id": "2i0v1tGqNFjB",
    "outputId": "6201e7e2-673f-4012-bbf1-e543b8a2454b"
   },
   "outputs": [
    {
     "data": {
      "text/plain": [
       "0"
      ]
     },
     "execution_count": 20,
     "metadata": {
      "tags": []
     },
     "output_type": "execute_result"
    }
   ],
   "source": [
    "pd.isna(df_train['text']).sum()"
   ]
  },
  {
   "cell_type": "code",
   "execution_count": 23,
   "metadata": {
    "colab": {
     "base_uri": "https://localhost:8080/",
     "height": 34
    },
    "colab_type": "code",
    "id": "BfpYRo2rKzxK",
    "outputId": "4a720e5d-0aaa-4717-f812-f380fce4aaeb"
   },
   "outputs": [
    {
     "data": {
      "text/plain": [
       "(10980,)"
      ]
     },
     "execution_count": 23,
     "metadata": {
      "tags": []
     },
     "output_type": "execute_result"
    }
   ],
   "source": [
    "data_x = df_train['text']\n",
    "data_x.shape"
   ]
  },
  {
   "cell_type": "code",
   "execution_count": 51,
   "metadata": {
    "colab": {
     "base_uri": "https://localhost:8080/",
     "height": 34
    },
    "colab_type": "code",
    "id": "QdIJMpqKcmgo",
    "outputId": "4efc3094-f57b-4ae5-b654-1412bb791334"
   },
   "outputs": [
    {
     "data": {
      "text/plain": [
       "(3660,)"
      ]
     },
     "execution_count": 51,
     "metadata": {
      "tags": []
     },
     "output_type": "execute_result"
    }
   ],
   "source": [
    "data_x_test = df_test['text']\n",
    "data_x_test.shape"
   ]
  },
  {
   "cell_type": "code",
   "execution_count": 0,
   "metadata": {
    "colab": {},
    "colab_type": "code",
    "id": "mIomf51rNS5g"
   },
   "outputs": [],
   "source": [
    "from nltk import tokenize"
   ]
  },
  {
   "cell_type": "code",
   "execution_count": 26,
   "metadata": {
    "colab": {
     "base_uri": "https://localhost:8080/",
     "height": 68
    },
    "colab_type": "code",
    "id": "lj1GtE55PKXv",
    "outputId": "413f43b9-ad0f-4cad-81d2-0ed7081cd41d"
   },
   "outputs": [
    {
     "name": "stdout",
     "output_type": "stream",
     "text": [
      "[nltk_data] Downloading package punkt to /root/nltk_data...\n",
      "[nltk_data]   Unzipping tokenizers/punkt.zip.\n"
     ]
    },
    {
     "data": {
      "text/plain": [
       "True"
      ]
     },
     "execution_count": 26,
     "metadata": {
      "tags": []
     },
     "output_type": "execute_result"
    }
   ],
   "source": [
    "import nltk\n",
    "nltk.download('punkt')"
   ]
  },
  {
   "cell_type": "code",
   "execution_count": 27,
   "metadata": {
    "colab": {
     "base_uri": "https://localhost:8080/",
     "height": 34
    },
    "colab_type": "code",
    "id": "uTSnMHUHOUtB",
    "outputId": "7043faac-6a01-44c9-9a76-e821661317a2"
   },
   "outputs": [
    {
     "data": {
      "text/plain": [
       "10980"
      ]
     },
     "execution_count": 27,
     "metadata": {
      "tags": []
     },
     "output_type": "execute_result"
    }
   ],
   "source": [
    "words_data_train = []\n",
    "for datapoint in data_x :\n",
    "  words_dp = tokenize.word_tokenize(datapoint)\n",
    "  words_data_train.append(words_dp)\n",
    "len(words_data_train)"
   ]
  },
  {
   "cell_type": "code",
   "execution_count": 52,
   "metadata": {
    "colab": {
     "base_uri": "https://localhost:8080/",
     "height": 34
    },
    "colab_type": "code",
    "id": "uAVN5h67c-rZ",
    "outputId": "3c2af080-c8c4-47d2-e7ba-3bbb56606d2b"
   },
   "outputs": [
    {
     "data": {
      "text/plain": [
       "3660"
      ]
     },
     "execution_count": 52,
     "metadata": {
      "tags": []
     },
     "output_type": "execute_result"
    }
   ],
   "source": [
    "words_data_test = []\n",
    "for datapoint in data_x_test :\n",
    "  words_dp = tokenize.word_tokenize(datapoint)\n",
    "  words_data_test.append(words_dp)\n",
    "len(words_data_test)"
   ]
  },
  {
   "cell_type": "code",
   "execution_count": 30,
   "metadata": {
    "colab": {
     "base_uri": "https://localhost:8080/",
     "height": 54
    },
    "colab_type": "code",
    "id": "D4s6NgAxPILB",
    "outputId": "ae009584-075d-41f0-adf8-310a5e8892f0"
   },
   "outputs": [
    {
     "name": "stdout",
     "output_type": "stream",
     "text": [
      "[['@', 'SouthwestAir', 'I', 'am', 'scheduled', 'for', 'the', 'morning', ',', '2', 'days', 'after', 'the', 'fact', ',', 'yes..not', 'sure', 'why', 'my', 'evening', 'flight', 'was', 'the', 'only', 'one', 'Cancelled', 'Flightled'], ['@', 'SouthwestAir', 'seeing', 'your', 'workers', 'time', 'in', 'and', 'time', 'out', 'going', 'above', 'and', 'beyond', 'is', 'why', 'I', 'love', 'flying', 'with', 'you', 'guys', '.', 'Thank', 'you', '!'], ['@', 'united', 'Flew', 'ORD', 'to', 'Miami', 'and', 'back', 'and', 'had', 'great', 'crew', ',', 'service', 'on', 'both', 'legs', '.', 'THANKS'], ['@', 'SouthwestAir', '@', 'dultch97', 'that', \"'s\", 'horse', 'radish', '😤🐴'], ['@', 'united', 'so', 'our', 'flight', 'into', 'ORD', 'was', 'delayed', 'because', 'of', 'Air', 'Force', 'One', ',', 'but', 'the', 'last', 'flight', 'to', 'SBN', 'is', 'at', '8:20', ',', '5', 'mins', 'from', 'now', 'we', 'just', 'landed', '.']]\n"
     ]
    }
   ],
   "source": [
    "print(words_data_train[0:5])"
   ]
  },
  {
   "cell_type": "code",
   "execution_count": 31,
   "metadata": {
    "colab": {
     "base_uri": "https://localhost:8080/",
     "height": 153
    },
    "colab_type": "code",
    "id": "WjajBR74Pl3W",
    "outputId": "56cab2f2-38bd-4805-9661-c850c2275681"
   },
   "outputs": [
    {
     "name": "stdout",
     "output_type": "stream",
     "text": [
      "[nltk_data] Downloading package stopwords to /root/nltk_data...\n",
      "[nltk_data]   Unzipping corpora/stopwords.zip.\n",
      "[nltk_data] Downloading package averaged_perceptron_tagger to\n",
      "[nltk_data]     /root/nltk_data...\n",
      "[nltk_data]   Unzipping taggers/averaged_perceptron_tagger.zip.\n",
      "[nltk_data] Downloading package wordnet to /root/nltk_data...\n",
      "[nltk_data]   Unzipping corpora/wordnet.zip.\n"
     ]
    },
    {
     "data": {
      "text/plain": [
       "True"
      ]
     },
     "execution_count": 31,
     "metadata": {
      "tags": []
     },
     "output_type": "execute_result"
    }
   ],
   "source": [
    "nltk.download('stopwords')\n",
    "nltk.download('averaged_perceptron_tagger')\n",
    "nltk.download('wordnet')"
   ]
  },
  {
   "cell_type": "code",
   "execution_count": 0,
   "metadata": {
    "colab": {},
    "colab_type": "code",
    "id": "JrggvPvYPytj"
   },
   "outputs": [],
   "source": [
    "from nltk.corpus import stopwords,wordnet\n",
    "import string\n",
    "from nltk.stem import WordNetLemmatizer"
   ]
  },
  {
   "cell_type": "code",
   "execution_count": 34,
   "metadata": {
    "colab": {
     "base_uri": "https://localhost:8080/",
     "height": 54
    },
    "colab_type": "code",
    "id": "3py4MTgqQsR1",
    "outputId": "b81efa09-b952-46f8-d428-31070f2e68b3"
   },
   "outputs": [
    {
     "name": "stdout",
     "output_type": "stream",
     "text": [
      "{'.', 'that', 'mustn', \"you've\", \"weren't\", \"wouldn't\", \"you'd\", '_', 'what', 'nor', 'shouldn', 'ain', 'our', \"you'll\", 'more', 'doesn', 'them', 'because', ';', 'we', 'himself', 'these', 'an', '~', 'after', 'should', 'on', '$', 'theirs', 'me', '-', 'no', 'itself', 'all', \"isn't\", \"'\", '+', 'been', 'in', 'didn', '<', 'herself', 'themselves', 'haven', 'some', 'same', 'those', 'having', \"mightn't\", 'until', 'into', 'through', 'out', 'than', 've', 'couldn', \"doesn't\", 'does', 'her', \"hadn't\", 'won', 'before', 'doing', 'ourselves', '|', ']', 'so', 'was', \"shan't\", 'will', '\\\\', 'further', 'd', 'why', 'yourself', 'who', 'were', 'and', 'above', 'when', 'am', 'at', 'again', \"couldn't\", 'weren', '^', 'where', '{', 'whom', 'are', \"that'll\", \"didn't\", 'have', 'needn', \"it's\", 'his', 'did', 'while', 'such', ')', '@', 'of', 'had', 'it', 'the', 'if', 'from', 'most', 'y', 'wouldn', 'off', 'ours', '#', 'against', 'between', 'has', 'each', 'a', 'once', '/', '=', 'not', '\"', '?', 'under', 'he', 'they', 'over', \"aren't\", 'for', 'down', 'only', 'you', 'is', 'just', \"don't\", \"needn't\", '*', \"haven't\", \"won't\", 'their', 'do', 'don', '%', '&', \"you're\", 're', 'ma', ',', 'yourselves', 'any', 'yours', 'by', 'with', 'm', 'hers', '(', 'or', \"shouldn't\", 'which', 'myself', 'mightn', '}', 'i', 'my', 'other', 'hasn', 't', 'she', '`', \"she's\", \"wasn't\", 'then', 'now', 'wasn', 'there', '!', ':', 'as', '>', 'him', 'being', 'up', 'how', 'below', 'too', 'about', 's', 'this', \"hasn't\", \"mustn't\", 'to', 'hadn', 'own', '[', 'both', 'very', 'few', 'aren', 'shan', 'its', 'isn', \"should've\", 'be', 'during', 'can', 'but', 'your', 'll', 'o', 'here'}\n"
     ]
    }
   ],
   "source": [
    "stop_words = set(stopwords.words('english'))\n",
    "punctuation = list(string.punctuation)\n",
    "stop_words.update(punctuation)\n",
    "print(stop_words)"
   ]
  },
  {
   "cell_type": "code",
   "execution_count": 0,
   "metadata": {
    "colab": {},
    "colab_type": "code",
    "id": "9vAif31hRwtD"
   },
   "outputs": [],
   "source": [
    "lemmatizer = WordNetLemmatizer()"
   ]
  },
  {
   "cell_type": "code",
   "execution_count": 0,
   "metadata": {
    "colab": {},
    "colab_type": "code",
    "id": "y2bOwkOXVZWN"
   },
   "outputs": [],
   "source": [
    "from nltk import pos_tag"
   ]
  },
  {
   "cell_type": "code",
   "execution_count": 0,
   "metadata": {
    "colab": {},
    "colab_type": "code",
    "id": "cME5yhVjVfBJ"
   },
   "outputs": [],
   "source": [
    "def getsimpletag(tag):\n",
    "  if tag.startswith('J'):\n",
    "    return wordnet.ADJ\n",
    "  elif tag.startswith('R'):\n",
    "    return wordnet.ADV\n",
    "  elif tag.startswith('V'):\n",
    "    return wordnet.VERB\n",
    "  else:\n",
    "    return wordnet.NOUN"
   ]
  },
  {
   "cell_type": "code",
   "execution_count": 0,
   "metadata": {
    "colab": {},
    "colab_type": "code",
    "id": "KRChF3s8SDE0"
   },
   "outputs": [],
   "source": [
    "def cleaning(words):\n",
    "  output_words = []\n",
    "  for w in words:\n",
    "    if w.lower() not in stop_words:\n",
    "      pos = pos_tag([w])\n",
    "      cleaned_word = lemmatizer.lemmatize(w,pos = getsimpletag(pos[0][1]))\n",
    "      output_words.append(cleaned_word.lower())\n",
    "  return output_words"
   ]
  },
  {
   "cell_type": "code",
   "execution_count": 39,
   "metadata": {
    "colab": {
     "base_uri": "https://localhost:8080/",
     "height": 54
    },
    "colab_type": "code",
    "id": "ccIMw5htYAcs",
    "outputId": "425e4c94-9497-4706-e390-75804d86b1c0"
   },
   "outputs": [
    {
     "name": "stdout",
     "output_type": "stream",
     "text": [
      "['southwestair', 'schedule', 'morning', '2', 'day', 'fact', 'yes..not', 'sure', 'even', 'flight', 'one', 'cancelled', 'flightled']\n"
     ]
    }
   ],
   "source": [
    "X = [cleaning(doc) for doc in words_data_train]\n",
    "print(X[0])"
   ]
  },
  {
   "cell_type": "code",
   "execution_count": 53,
   "metadata": {
    "colab": {
     "base_uri": "https://localhost:8080/",
     "height": 54
    },
    "colab_type": "code",
    "id": "I8mEb8zXduDI",
    "outputId": "e57f1bf6-d0ca-4922-993a-0e81272f011e"
   },
   "outputs": [
    {
     "name": "stdout",
     "output_type": "stream",
     "text": [
      "['americanair', 'car', 'gng', 'dfw', 'pulled', '1hr', 'ago', 'icy', 'road', 'on-hold', 'aa', 'since', '1hr', 'ca', \"n't\", 'reach', 'arpt', 'aa2450', 'wat', '2']\n"
     ]
    }
   ],
   "source": [
    "X_test = [cleaning(doc) for doc in words_data_test]\n",
    "print(X_test[0])"
   ]
  },
  {
   "cell_type": "code",
   "execution_count": 40,
   "metadata": {
    "colab": {
     "base_uri": "https://localhost:8080/",
     "height": 34
    },
    "colab_type": "code",
    "id": "4vDNBQpFYnLF",
    "outputId": "1f02532d-622a-453e-f9ed-8af76e4e4e16"
   },
   "outputs": [
    {
     "name": "stdout",
     "output_type": "stream",
     "text": [
      "southwestair schedule morning 2 day fact yes..not sure even flight one cancelled flightled\n"
     ]
    }
   ],
   "source": [
    "X = [\" \".join(x) for x in X]\n",
    "print(X[0])"
   ]
  },
  {
   "cell_type": "code",
   "execution_count": 54,
   "metadata": {
    "colab": {
     "base_uri": "https://localhost:8080/",
     "height": 34
    },
    "colab_type": "code",
    "id": "8VN_Xd8-d6kQ",
    "outputId": "7e3b752e-84de-4006-ea2c-62f4ee8bc124"
   },
   "outputs": [
    {
     "name": "stdout",
     "output_type": "stream",
     "text": [
      "americanair car gng dfw pulled 1hr ago icy road on-hold aa since 1hr ca n't reach arpt aa2450 wat 2\n"
     ]
    }
   ],
   "source": [
    "X_test = [\" \".join(x) for x in X_test]\n",
    "print(X_test[0])"
   ]
  },
  {
   "cell_type": "code",
   "execution_count": 0,
   "metadata": {
    "colab": {},
    "colab_type": "code",
    "id": "73hv_N68ZKJ1"
   },
   "outputs": [],
   "source": [
    "from sklearn.feature_extraction.text import CountVectorizer\n",
    "count_vec = CountVectorizer(max_features = 2000 , ngram_range=(1,2))"
   ]
  },
  {
   "cell_type": "code",
   "execution_count": 56,
   "metadata": {
    "colab": {
     "base_uri": "https://localhost:8080/",
     "height": 136
    },
    "colab_type": "code",
    "id": "QeQyV0MQZ5Y-",
    "outputId": "a0fa5c16-e423-426a-eb40-02392b4690a0"
   },
   "outputs": [
    {
     "data": {
      "text/plain": [
       "matrix([[0, 0, 0, ..., 0, 0, 0],\n",
       "        [0, 0, 0, ..., 0, 0, 0],\n",
       "        [0, 0, 0, ..., 0, 0, 0],\n",
       "        ...,\n",
       "        [0, 0, 0, ..., 0, 0, 0],\n",
       "        [0, 0, 0, ..., 0, 0, 0],\n",
       "        [0, 0, 0, ..., 0, 0, 0]], dtype=int64)"
      ]
     },
     "execution_count": 56,
     "metadata": {
      "tags": []
     },
     "output_type": "execute_result"
    }
   ],
   "source": [
    "x_train_tranform = count_vec.fit_transform(X)\n",
    "x_train_tranform.todense()"
   ]
  },
  {
   "cell_type": "code",
   "execution_count": 59,
   "metadata": {
    "colab": {
     "base_uri": "https://localhost:8080/",
     "height": 136
    },
    "colab_type": "code",
    "id": "UUdr39F7ecPv",
    "outputId": "bbab4179-c392-408e-cfb3-2c7794e528e0"
   },
   "outputs": [
    {
     "data": {
      "text/plain": [
       "matrix([[0, 0, 0, ..., 0, 0, 0],\n",
       "        [0, 0, 0, ..., 0, 0, 0],\n",
       "        [0, 0, 0, ..., 0, 0, 0],\n",
       "        ...,\n",
       "        [0, 0, 0, ..., 0, 0, 0],\n",
       "        [0, 0, 0, ..., 0, 0, 0],\n",
       "        [0, 0, 0, ..., 0, 0, 0]])"
      ]
     },
     "execution_count": 59,
     "metadata": {
      "tags": []
     },
     "output_type": "execute_result"
    }
   ],
   "source": [
    "x_test_transform = count_vec.transform(X_test)\n",
    "x_test_transform.todense()"
   ]
  },
  {
   "cell_type": "code",
   "execution_count": 0,
   "metadata": {
    "colab": {},
    "colab_type": "code",
    "id": "PWbqXtoWa7GN"
   },
   "outputs": [],
   "source": [
    "from sklearn.naive_bayes import MultinomialNB"
   ]
  },
  {
   "cell_type": "code",
   "execution_count": 61,
   "metadata": {
    "colab": {
     "base_uri": "https://localhost:8080/",
     "height": 34
    },
    "colab_type": "code",
    "id": "hSdxoIpFbPCH",
    "outputId": "d739e1fa-582b-401c-903c-395f21dfdba6"
   },
   "outputs": [
    {
     "data": {
      "text/plain": [
       "MultinomialNB(alpha=1.0, class_prior=None, fit_prior=True)"
      ]
     },
     "execution_count": 61,
     "metadata": {
      "tags": []
     },
     "output_type": "execute_result"
    }
   ],
   "source": [
    "clf = MultinomialNB()\n",
    "x_train = np.array(x_train_tranform.todense())\n",
    "clf.fit(x_train,Y)"
   ]
  },
  {
   "cell_type": "code",
   "execution_count": 0,
   "metadata": {
    "colab": {},
    "colab_type": "code",
    "id": "GzfjP80tbjjd"
   },
   "outputs": [],
   "source": [
    "Y_pred = clf.predict(x_test_transform)"
   ]
  },
  {
   "cell_type": "code",
   "execution_count": 0,
   "metadata": {
    "colab": {},
    "colab_type": "code",
    "id": "Y8sWHPoue_yk"
   },
   "outputs": [],
   "source": [
    "np.savetxt('predictions.csv',Y_pred,fmt = '%s')"
   ]
  },
  {
   "cell_type": "code",
   "execution_count": 0,
   "metadata": {
    "colab": {},
    "colab_type": "code",
    "id": "7Vlmr6vPjZuP"
   },
   "outputs": [],
   "source": [
    "from sklearn.neural_network import MLPClassifier"
   ]
  },
  {
   "cell_type": "code",
   "execution_count": 0,
   "metadata": {
    "colab": {},
    "colab_type": "code",
    "id": "XihpphvWj3Pd"
   },
   "outputs": [],
   "source": [
    "clf = MLPClassifier()"
   ]
  },
  {
   "cell_type": "code",
   "execution_count": 68,
   "metadata": {
    "colab": {
     "base_uri": "https://localhost:8080/",
     "height": 136
    },
    "colab_type": "code",
    "id": "-RgElCyrj5g2",
    "outputId": "95cc6deb-39de-4877-e307-a0c29d0dbcf5"
   },
   "outputs": [
    {
     "data": {
      "text/plain": [
       "MLPClassifier(activation='relu', alpha=0.0001, batch_size='auto', beta_1=0.9,\n",
       "       beta_2=0.999, early_stopping=False, epsilon=1e-08,\n",
       "       hidden_layer_sizes=(100,), learning_rate='constant',\n",
       "       learning_rate_init=0.001, max_iter=200, momentum=0.9,\n",
       "       n_iter_no_change=10, nesterovs_momentum=True, power_t=0.5,\n",
       "       random_state=None, shuffle=True, solver='adam', tol=0.0001,\n",
       "       validation_fraction=0.1, verbose=False, warm_start=False)"
      ]
     },
     "execution_count": 68,
     "metadata": {
      "tags": []
     },
     "output_type": "execute_result"
    }
   ],
   "source": [
    "clf.fit(x_train,Y)"
   ]
  },
  {
   "cell_type": "code",
   "execution_count": 0,
   "metadata": {
    "colab": {},
    "colab_type": "code",
    "id": "btiANdWRj_bu"
   },
   "outputs": [],
   "source": [
    "Y_pred = clf.predict(x_test_transform)\n",
    "np.savetxt('predictions_neural.csv',Y_pred,fmt = '%s')"
   ]
  },
  {
   "cell_type": "code",
   "execution_count": 0,
   "metadata": {
    "colab": {},
    "colab_type": "code",
    "id": "d2Lzs0BMkypY"
   },
   "outputs": [],
   "source": [
    "count_vec1 = CountVectorizer(max_features = 200 , ngram_range=(1,2))\n",
    "x_train_tr = count_vec1.fit_transform(X)\n",
    "x_test_tr = count_vec1.transform(X_test)"
   ]
  },
  {
   "cell_type": "code",
   "execution_count": 72,
   "metadata": {
    "colab": {
     "base_uri": "https://localhost:8080/",
     "height": 34
    },
    "colab_type": "code",
    "id": "jmF9lExUpxgB",
    "outputId": "bbb449e9-dcd4-463c-cd79-e410340bddbb"
   },
   "outputs": [
    {
     "data": {
      "text/plain": [
       "MultinomialNB(alpha=1.0, class_prior=None, fit_prior=True)"
      ]
     },
     "execution_count": 72,
     "metadata": {
      "tags": []
     },
     "output_type": "execute_result"
    }
   ],
   "source": [
    "clf = MultinomialNB()\n",
    "clf.fit(np.array(x_train_tr.todense()),Y)"
   ]
  },
  {
   "cell_type": "code",
   "execution_count": 0,
   "metadata": {
    "colab": {},
    "colab_type": "code",
    "id": "ek8ix3agqE6m"
   },
   "outputs": [],
   "source": [
    "Y_pred = clf.predict(np.array(x_test_tr.todense()))\n",
    "np.savetxt('predictions_200.csv',Y_pred,fmt = '%s')"
   ]
  },
  {
   "cell_type": "code",
   "execution_count": 0,
   "metadata": {
    "colab": {},
    "colab_type": "code",
    "id": "1286hFcmqT6N"
   },
   "outputs": [],
   "source": [
    "from sklearn.feature_extraction.text import TfidfVectorizer\n",
    "tfidf_vec = TfidfVectorizer(max_features = 2000 , ngram_range = (1,2))\n",
    "x_train_tr = tfidf_vec.fit_transform(X)\n",
    "x_test_tr = tfidf_vec.transform(X_test)\n",
    "clf = MultinomialNB()\n",
    "clf.fit(np.array(x_train_tr.todense()),Y)\n",
    "Y_pred = clf.predict(np.array(x_test_tr.todense()))\n",
    "np.savetxt('predictions_tf_idf_2000.csv',Y_pred,fmt = '%s')"
   ]
  },
  {
   "cell_type": "code",
   "execution_count": 0,
   "metadata": {
    "colab": {},
    "colab_type": "code",
    "id": "9N37mv5yrPDx"
   },
   "outputs": [],
   "source": [
    "from sklearn.feature_extraction.text import TfidfVectorizer\n",
    "tfidf_vec = TfidfVectorizer(max_features = 200 , ngram_range = (1,2))\n",
    "x_train_tr = tfidf_vec.fit_transform(X)\n",
    "x_test_tr = tfidf_vec.transform(X_test)\n",
    "clf = MultinomialNB()\n",
    "clf.fit(np.array(x_train_tr.todense()),Y)\n",
    "Y_pred = clf.predict(np.array(x_test_tr.todense()))\n",
    "np.savetxt('predictions_tf_idf_200.csv',Y_pred,fmt = '%s')"
   ]
  },
  {
   "cell_type": "code",
   "execution_count": 0,
   "metadata": {
    "colab": {},
    "colab_type": "code",
    "id": "N7wdUprQrTXp"
   },
   "outputs": [],
   "source": [
    "count_vec = CountVectorizer(max_features = 3000 , ngram_range = (1,2))\n",
    "x_train_tr = count_vec.fit_transform(X)\n",
    "x_test_tr = count_vec.transform(X_test)\n",
    "clf = MultinomialNB()\n",
    "clf.fit(np.array(x_train_tr.todense()),Y)\n",
    "Y_pred = clf.predict(np.array(x_test_tr.todense()))\n",
    "np.savetxt('predictions_count_vecc_3000.csv',Y_pred,fmt = '%s')"
   ]
  },
  {
   "cell_type": "code",
   "execution_count": 0,
   "metadata": {
    "colab": {},
    "colab_type": "code",
    "id": "fMaLym5btNrJ"
   },
   "outputs": [],
   "source": [
    "count_vec = CountVectorizer(max_features = 3000 , ngram_range = (1,2))\n",
    "x_train_tr = count_vec.fit_transform(X)\n",
    "x_test_tr = count_vec.transform(X_test)\n",
    "clf = MLPClassifier()\n",
    "clf.fit(np.array(x_train_tr.todense()),Y)\n",
    "Y_pred = clf.predict(np.array(x_test_tr.todense()))\n",
    "np.savetxt('predictions_neural_3000.csv',Y_pred,fmt = '%s')"
   ]
  }
 ],
 "metadata": {
  "accelerator": "GPU",
  "colab": {
   "name": "ProjectTwitter.ipynb",
   "provenance": [],
   "version": "0.3.2"
  },
  "kernelspec": {
   "display_name": "Python 3",
   "language": "python",
   "name": "python3"
  },
  "language_info": {
   "codemirror_mode": {
    "name": "ipython",
    "version": 3
   },
   "file_extension": ".py",
   "mimetype": "text/x-python",
   "name": "python",
   "nbconvert_exporter": "python",
   "pygments_lexer": "ipython3",
   "version": "3.6.7"
  }
 },
 "nbformat": 4,
 "nbformat_minor": 1
}
